{
  "cells": [
    {
      "cell_type": "code",
      "execution_count": 1,
      "id": "0da4e9dd",
      "metadata": {
        "id": "0da4e9dd"
      },
      "outputs": [],
      "source": [
        "import pandas as pd\n",
        "import numpy as np\n",
        "import statsmodels.api as sm\n",
        "import matplotlib.pyplot as plt"
      ]
    },
    {
      "cell_type": "code",
      "source": [
        "! wget https://www.statlearning.com/s/Advertising.csv"
      ],
      "metadata": {
        "colab": {
          "base_uri": "https://localhost:8080/"
        },
        "id": "8sCxH38wc8MR",
        "outputId": "152e3785-98f0-4498-e6bb-48fb30aa98a8"
      },
      "id": "8sCxH38wc8MR",
      "execution_count": 2,
      "outputs": [
        {
          "output_type": "stream",
          "name": "stdout",
          "text": [
            "--2024-03-17 17:27:11--  https://www.statlearning.com/s/Advertising.csv\n",
            "Resolving www.statlearning.com (www.statlearning.com)... 198.185.159.144, 198.49.23.145, 198.185.159.145, ...\n",
            "Connecting to www.statlearning.com (www.statlearning.com)|198.185.159.144|:443... connected.\n",
            "HTTP request sent, awaiting response... 302 Found\n",
            "Location: https://static1.squarespace.com/static/5ff2adbe3fe4fe33db902812/t/5fffe03b4091076ff5b30c72/1610604603901/Advertising.csv [following]\n",
            "--2024-03-17 17:27:12--  https://static1.squarespace.com/static/5ff2adbe3fe4fe33db902812/t/5fffe03b4091076ff5b30c72/1610604603901/Advertising.csv\n",
            "Resolving static1.squarespace.com (static1.squarespace.com)... 151.101.0.238, 151.101.64.238, 151.101.128.238, ...\n",
            "Connecting to static1.squarespace.com (static1.squarespace.com)|151.101.0.238|:443... connected.\n",
            "HTTP request sent, awaiting response... 200 OK\n",
            "Length: 4555 (4.4K) [text/csv]\n",
            "Saving to: ‘Advertising.csv’\n",
            "\n",
            "Advertising.csv     100%[===================>]   4.45K  --.-KB/s    in 0s      \n",
            "\n",
            "2024-03-17 17:27:12 (33.6 MB/s) - ‘Advertising.csv’ saved [4555/4555]\n",
            "\n"
          ]
        }
      ]
    },
    {
      "cell_type": "code",
      "execution_count": 3,
      "id": "57666042",
      "metadata": {
        "id": "57666042"
      },
      "outputs": [],
      "source": [
        "# Read in a CSV file\n",
        "adv = pd.read_csv('Advertising.csv')"
      ]
    },
    {
      "cell_type": "code",
      "execution_count": 5,
      "id": "1078f4ba",
      "metadata": {
        "id": "1078f4ba"
      },
      "outputs": [],
      "source": [
        "x = adv['TV']\n",
        "y = adv['sales']\n",
        "n = len(x)"
      ]
    },
    {
      "cell_type": "code",
      "execution_count": 6,
      "id": "89d6e2ab",
      "metadata": {
        "id": "89d6e2ab"
      },
      "outputs": [],
      "source": [
        "# The way from the book\n",
        "xBar = np.sum(x)/n\n",
        "yBar = np.sum(y)/n\n",
        "Bookb1 = np.sum( (x-xBar)*(y-yBar) )/np.sum( (x-xBar)**2 )\n",
        "Bookb0 = yBar - Bookb1*xBar"
      ]
    },
    {
      "cell_type": "code",
      "execution_count": 11,
      "id": "43a89105",
      "metadata": {
        "colab": {
          "base_uri": "https://localhost:8080/"
        },
        "id": "43a89105",
        "outputId": "48a97c06-81c2-4486-a453-b652bfba7a91"
      },
      "outputs": [
        {
          "output_type": "stream",
          "name": "stdout",
          "text": [
            "const    7.032594\n",
            "TV       0.047537\n",
            "dtype: float64\n"
          ]
        }
      ],
      "source": [
        "# The standard way in Python\n",
        "myFit = sm.OLS(y, sm.add_constant(x)).fit()\n",
        "Rb0 = myFit.params['const']\n",
        "Rb1 = myFit.params['TV']"
      ]
    },
    {
      "cell_type": "code",
      "execution_count": 12,
      "id": "a64e30ed",
      "metadata": {
        "id": "a64e30ed"
      },
      "outputs": [],
      "source": [
        "# This function creates a n-by-2 matrix where every entry is 1.\n",
        "X = np.ones((n,2))\n",
        "X[:,1] = x"
      ]
    },
    {
      "cell_type": "code",
      "execution_count": 13,
      "id": "da17c94a",
      "metadata": {
        "id": "da17c94a"
      },
      "outputs": [],
      "source": [
        "# This is the Python equivalent of the R dot product operator\n",
        "XTXi = np.linalg.inv(X.T.dot(X)).dot(X.T)"
      ]
    },
    {
      "cell_type": "code",
      "execution_count": 14,
      "id": "8eb1fbb9",
      "metadata": {
        "id": "8eb1fbb9"
      },
      "outputs": [],
      "source": [
        "# This is the matrix solution of the linear least squares equation\n",
        "B = XTXi.dot(y)"
      ]
    },
    {
      "cell_type": "code",
      "execution_count": 15,
      "id": "be87533e",
      "metadata": {
        "id": "be87533e"
      },
      "outputs": [],
      "source": [
        "# These are the slope and intercept of the line of interest.\n",
        "Matrixb0 = B[0]\n",
        "Matrixb1 = B[1]"
      ]
    },
    {
      "cell_type": "code",
      "execution_count": 16,
      "id": "fed552c1",
      "metadata": {
        "colab": {
          "base_uri": "https://localhost:8080/"
        },
        "id": "fed552c1",
        "outputId": "383677eb-ce99-4e2b-b451-ad72bb591fb7"
      },
      "outputs": [
        {
          "output_type": "stream",
          "name": "stdout",
          "text": [
            "7.0325935491276965 7.032593549127698 7.032593549127698\n"
          ]
        }
      ],
      "source": [
        "# The intercepts are all the same!  And they match Table 3.1 in\n",
        "# the book.  In fact, the last digit in the book is rounded\n",
        "# incorrectly :-)\n",
        "print(Bookb0, Rb0, Matrixb0)"
      ]
    },
    {
      "cell_type": "code",
      "execution_count": 17,
      "id": "88e1b04c",
      "metadata": {
        "colab": {
          "base_uri": "https://localhost:8080/"
        },
        "id": "88e1b04c",
        "outputId": "e1822b7b-a704-400f-8f50-f6e3d3f4e339"
      },
      "outputs": [
        {
          "output_type": "stream",
          "name": "stdout",
          "text": [
            "0.047536640433019736 0.047536640433019764 0.047536640433019736\n"
          ]
        }
      ],
      "source": [
        "# The slopes are all the same!  And they match Table 3.1 in\n",
        "# the book.\n",
        "print(Bookb1, Rb1, Matrixb1)"
      ]
    },
    {
      "cell_type": "code",
      "execution_count": 18,
      "id": "0faf188b",
      "metadata": {
        "colab": {
          "base_uri": "https://localhost:8080/",
          "height": 430
        },
        "id": "0faf188b",
        "outputId": "95480d4b-58dd-4dae-e45b-07ea711a4027"
      },
      "outputs": [
        {
          "output_type": "display_data",
          "data": {
            "text/plain": [
              "<Figure size 640x480 with 1 Axes>"
            ],
            "image/png": "[encoded data removed]"
          },
          "metadata": {}
        }
      ],
      "source": [
        "# The regression lines all lay right on top of each other!  I guess\n",
        "# we got the formulas correct...\n",
        "plt.scatter(x, y, color='red')\n",
        "plt.plot(x, Bookb0 + Bookb1 * x, color='blue')\n",
        "plt.plot(x, Rb0 + Rb1 * x, color='green')\n",
        "plt.plot(x, Matrixb0 + Matrixb1 * x, color='yellow')\n",
        "plt.show()"
      ]
    },
    {
      "cell_type": "code",
      "source": [],
      "metadata": {
        "id": "r3z3too3dtSW"
      },
      "id": "r3z3too3dtSW",
      "execution_count": null,
      "outputs": []
    }
  ],
  "metadata": {
    "jupytext": {
      "cell_metadata_filter": "-all",
      "main_language": "python",
      "notebook_metadata_filter": "-all"
    },
    "colab": {
      "provenance": []
    },
    "language_info": {
      "name": "python"
    },
    "kernelspec": {
      "name": "python3",
      "display_name": "Python 3"
    }
  },
  "nbformat": 4,
  "nbformat_minor": 5
}