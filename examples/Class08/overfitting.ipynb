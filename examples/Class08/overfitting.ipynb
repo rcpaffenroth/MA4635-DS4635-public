{
  "cells": [
    {
      "cell_type": "code",
      "execution_count": 1,
      "id": "ea64bb76",
      "metadata": {
        "id": "ea64bb76"
      },
      "outputs": [],
      "source": [
        "import pandas as pd\n",
        "import numpy as np\n",
        "import matplotlib.pyplot as plt"
      ]
    },
    {
      "cell_type": "code",
      "execution_count": 2,
      "id": "0fae826e",
      "metadata": {
        "id": "0fae826e",
        "outputId": "3ed87e22-a3d8-44c5-9b59-c179fe3c520e",
        "colab": {
          "base_uri": "https://localhost:8080/"
        }
      },
      "outputs": [
        {
          "output_type": "stream",
          "name": "stdout",
          "text": [
            "--2024-03-17 17:41:12--  https://www.statlearning.com/s/Advertising.csv\n",
            "Resolving www.statlearning.com (www.statlearning.com)... 198.185.159.144, 198.49.23.145, 198.185.159.145, ...\n",
            "Connecting to www.statlearning.com (www.statlearning.com)|198.185.159.144|:443... connected.\n",
            "HTTP request sent, awaiting response... 302 Found\n",
            "Location: https://static1.squarespace.com/static/5ff2adbe3fe4fe33db902812/t/5fffe03b4091076ff5b30c72/1610604603901/Advertising.csv [following]\n",
            "--2024-03-17 17:41:13--  https://static1.squarespace.com/static/5ff2adbe3fe4fe33db902812/t/5fffe03b4091076ff5b30c72/1610604603901/Advertising.csv\n",
            "Resolving static1.squarespace.com (static1.squarespace.com)... 151.101.0.238, 151.101.64.238, 151.101.128.238, ...\n",
            "Connecting to static1.squarespace.com (static1.squarespace.com)|151.101.0.238|:443... connected.\n",
            "HTTP request sent, awaiting response... 200 OK\n",
            "Length: 4555 (4.4K) [text/csv]\n",
            "Saving to: ‘Advertising.csv’\n",
            "\n",
            "Advertising.csv     100%[===================>]   4.45K  --.-KB/s    in 0s      \n",
            "\n",
            "2024-03-17 17:41:13 (45.1 MB/s) - ‘Advertising.csv’ saved [4555/4555]\n",
            "\n"
          ]
        }
      ],
      "source": [
        "# Read in a CSV file\n",
        "! wget https://www.statlearning.com/s/Advertising.csv\n",
        "adv = pd.read_csv('Advertising.csv')"
      ]
    },
    {
      "cell_type": "code",
      "execution_count": 3,
      "id": "ed1cdfca",
      "metadata": {
        "id": "ed1cdfca"
      },
      "outputs": [],
      "source": [
        "degree = 18\n",
        "# Better be larger that degree!\n",
        "numberOfPoints = 100"
      ]
    },
    {
      "cell_type": "code",
      "execution_count": 5,
      "id": "40ebcd94",
      "metadata": {
        "id": "40ebcd94"
      },
      "outputs": [],
      "source": [
        "# Get a subset of the points\n",
        "adv = adv.iloc[:numberOfPoints, :]"
      ]
    },
    {
      "cell_type": "code",
      "execution_count": 7,
      "id": "82c9696c",
      "metadata": {
        "id": "82c9696c"
      },
      "outputs": [],
      "source": [
        "# Make some better names for the variables of interest\n",
        "xTV = adv['TV']\n",
        "# We normalize the data so that we can handle higher degree polynomials.\n",
        "xTV = (xTV - np.mean(xTV)) / np.sqrt(np.var(xTV))\n",
        "y = adv['sales']\n",
        "n = len(xTV)"
      ]
    },
    {
      "cell_type": "code",
      "execution_count": 8,
      "id": "d9db81f8",
      "metadata": {
        "id": "d9db81f8",
        "outputId": "36a6d3b0-0288-41e3-a2d7-8aca53e13bc8",
        "colab": {
          "base_uri": "https://localhost:8080/",
          "height": 176
        }
      },
      "outputs": [
        {
          "output_type": "error",
          "ename": "ValueError",
          "evalue": "could not broadcast input array from shape (100,) into shape (100,1)",
          "traceback": [
            "\u001b[0;31m---------------------------------------------------------------------------\u001b[0m",
            "\u001b[0;31mValueError\u001b[0m                                Traceback (most recent call last)",
            "\u001b[0;32m<ipython-input-8-64ec5b5e33a7>\u001b[0m in \u001b[0;36m<cell line: 7>\u001b[0;34m()\u001b[0m\n\u001b[1;32m      6\u001b[0m \u001b[0;31m# Fill in columns 2-4 with our predictors.\u001b[0m\u001b[0;34m\u001b[0m\u001b[0;34m\u001b[0m\u001b[0m\n\u001b[1;32m      7\u001b[0m \u001b[0;32mfor\u001b[0m \u001b[0mi\u001b[0m \u001b[0;32min\u001b[0m \u001b[0mrange\u001b[0m\u001b[0;34m(\u001b[0m\u001b[0;36m1\u001b[0m\u001b[0;34m,\u001b[0m \u001b[0mdegree\u001b[0m\u001b[0;34m+\u001b[0m\u001b[0;36m1\u001b[0m\u001b[0;34m)\u001b[0m\u001b[0;34m:\u001b[0m\u001b[0;34m\u001b[0m\u001b[0;34m\u001b[0m\u001b[0m\n\u001b[0;32m----> 8\u001b[0;31m     \u001b[0mX\u001b[0m\u001b[0;34m[\u001b[0m\u001b[0;34m:\u001b[0m\u001b[0;34m,\u001b[0m \u001b[0mi\u001b[0m\u001b[0;34m]\u001b[0m \u001b[0;34m=\u001b[0m \u001b[0mnp\u001b[0m\u001b[0;34m.\u001b[0m\u001b[0mpower\u001b[0m\u001b[0;34m(\u001b[0m\u001b[0mxTV\u001b[0m\u001b[0;34m,\u001b[0m \u001b[0mi\u001b[0m\u001b[0;34m)\u001b[0m\u001b[0;34m\u001b[0m\u001b[0;34m\u001b[0m\u001b[0m\n\u001b[0m",
            "\u001b[0;31mValueError\u001b[0m: could not broadcast input array from shape (100,) into shape (100,1)"
          ]
        }
      ],
      "source": [
        "# This function creates a n-by-4 matrix where every entry is 1.\n",
        "# The 4 is important!  This is what makes this a *multiple* linear\n",
        "# regression.  n-by-2 is single linear regression and n-by-k with k>2\n",
        "# is multiple linear regression.\n",
        "X = np.matrix(np.ones((n, degree+1)))\n",
        "# Fill in columns 2-4 with our predictors.\n",
        "for i in range(1, degree+1):\n",
        "    X[:, i] = np.power(xTV, i)"
      ]
    },
    {
      "cell_type": "code",
      "execution_count": null,
      "id": "71023186",
      "metadata": {
        "id": "71023186"
      },
      "outputs": [],
      "source": [
        "# %*% is the R dot product operator, t(X) is the transpose of the matrix X,\n",
        "# and solve returns the inverse of its argument.\n",
        "# So, this matrix equation is the R version of the one\n",
        "# from the course notes.\n",
        "B = np.linalg.solve(np.transpose(X) @ X, np.transpose(X) @ y)"
      ]
    },
    {
      "cell_type": "code",
      "execution_count": null,
      "id": "e0d3ba29",
      "metadata": {
        "id": "e0d3ba29"
      },
      "outputs": [],
      "source": [
        "# These are the predicted values of sales\n",
        "yHat = B[0]\n",
        "for i in range(1, degree+1):\n",
        "    yHat += xTV*B[i]"
      ]
    },
    {
      "cell_type": "code",
      "execution_count": null,
      "id": "fc432b8b",
      "metadata": {
        "id": "fc432b8b"
      },
      "outputs": [],
      "source": [
        "# Make a plot by choosing a fine data mesh to predict on.\n",
        "plt.plot(xTV, y, pch=3, col='red')\n",
        "TVMeshX = np.arange(np.min(xTV), np.max(xTV), 0.01)\n",
        "TVMeshY = B[0]\n",
        "for i in range(1, degree+1):\n",
        "    TVMeshY += B[i]*np.power(TVMeshX, i)"
      ]
    },
    {
      "cell_type": "code",
      "execution_count": null,
      "id": "aa4a61c7",
      "metadata": {
        "id": "aa4a61c7"
      },
      "outputs": [],
      "source": [
        "plt.plot(TVMeshX, TVMeshY)\n",
        "plt.show()"
      ]
    }
  ],
  "metadata": {
    "jupytext": {
      "cell_metadata_filter": "-all",
      "main_language": "python",
      "notebook_metadata_filter": "-all"
    },
    "colab": {
      "provenance": []
    },
    "language_info": {
      "name": "python"
    },
    "kernelspec": {
      "name": "python3",
      "display_name": "Python 3"
    }
  },
  "nbformat": 4,
  "nbformat_minor": 5
}