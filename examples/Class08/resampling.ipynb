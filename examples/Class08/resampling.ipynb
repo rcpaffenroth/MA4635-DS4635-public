{
 "cells": [
  {
   "cell_type": "code",
   "execution_count": null,
   "id": "1f225100",
   "metadata": {
    "lines_to_next_cell": 0
   },
   "outputs": [],
   "source": []
  },
  {
   "cell_type": "code",
   "execution_count": null,
   "id": "d576207b",
   "metadata": {},
   "outputs": [],
   "source": [
    "import numpy as np\n",
    "import pandas as pd\n",
    "import matplotlib.pyplot as plt\n",
    "from sklearn.linear_model import LinearRegression"
   ]
  },
  {
   "cell_type": "code",
   "execution_count": null,
   "id": "6a71c188",
   "metadata": {},
   "outputs": [],
   "source": [
    "# Fake data\n",
    "x = np.random.randn(100)\n",
    "fakeB0 = 2.2\n",
    "fakeB1 = 0.7\n",
    "y = fakeB0 + fakeB1 * x + np.random.randn(100)"
   ]
  },
  {
   "cell_type": "markdown",
   "id": "d55ca45d",
   "metadata": {},
   "source": [
    "Read in a CSV file\n",
    "adv = pd.read_csv('data/Advertising.csv')\n",
    "x = adv['TV']\n",
    "y = adv['Sales']"
   ]
  },
  {
   "cell_type": "code",
   "execution_count": null,
   "id": "b098bd8e",
   "metadata": {},
   "outputs": [],
   "source": [
    "origFit = LinearRegression().fit(x.reshape(-1, 1), y)\n",
    "plt.scatter(x, y)\n",
    "plt.plot(x, origFit.predict(x.reshape(-1, 1)), color='red')"
   ]
  },
  {
   "cell_type": "code",
   "execution_count": null,
   "id": "df052e74",
   "metadata": {},
   "outputs": [],
   "source": [
    "beta0 = []\n",
    "beta1 = []\n",
    "for i in range(1000):\n",
    "    mySample = np.random.choice(len(x), len(x), replace=True)\n",
    "    myFit = LinearRegression().fit(x[mySample].reshape(-1, 1), y[mySample])\n",
    "    beta0.append(myFit.coef_[0])\n",
    "    beta1.append(myFit.coef_[1])\n",
    "    plt.plot(x, myFit.predict(x.reshape(-1, 1)), color='blue', alpha=0.1)"
   ]
  },
  {
   "cell_type": "code",
   "execution_count": null,
   "id": "34b05212",
   "metadata": {},
   "outputs": [],
   "source": [
    "print(origFit.summary())\n",
    "print(np.std(beta0))\n",
    "print(np.std(beta1))"
   ]
  },
  {
   "cell_type": "code",
   "execution_count": null,
   "id": "1886eaf3",
   "metadata": {},
   "outputs": [],
   "source": [
    "plt.hist(beta0, bins=20)\n",
    "plt.show()\n",
    "plt.hist(beta1, bins=20)\n",
    "plt.show()"
   ]
  }
 ],
 "metadata": {
  "jupytext": {
   "cell_metadata_filter": "-all",
   "main_language": "python",
   "notebook_metadata_filter": "-all"
  }
 },
 "nbformat": 4,
 "nbformat_minor": 5
}
