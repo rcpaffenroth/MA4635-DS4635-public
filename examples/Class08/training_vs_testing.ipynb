{
 "cells": [
  {
   "cell_type": "code",
   "execution_count": null,
   "id": "a14f7fa3",
   "metadata": {
    "lines_to_next_cell": 0
   },
   "outputs": [],
   "source": []
  },
  {
   "cell_type": "code",
   "execution_count": null,
   "id": "ff587372",
   "metadata": {},
   "outputs": [],
   "source": [
    "import pandas as pd\n",
    "import numpy as np\n",
    "from sklearn.model_selection import train_test_split\n",
    "from sklearn.linear_model import LinearRegression\n",
    "from sklearn.metrics import mean_squared_error"
   ]
  },
  {
   "cell_type": "code",
   "execution_count": null,
   "id": "ea5b2f12",
   "metadata": {
    "lines_to_next_cell": 1
   },
   "outputs": [],
   "source": [
    "# Read in the data\n",
    "data = pd.read_csv('data/Advertising.csv')"
   ]
  },
  {
   "cell_type": "code",
   "execution_count": null,
   "id": "0b752337",
   "metadata": {
    "lines_to_next_cell": 1
   },
   "outputs": [],
   "source": [
    "# Define the overfitting function\n",
    "def overfitting(training_size, degree):\n",
    "    # Get the features and target\n",
    "    X = data[['TV']]\n",
    "    y = data['Sales']\n",
    "\n",
    "    # Convert the features to standard normal\n",
    "    X = (X - X.mean()) / np.sqrt(X.var())\n",
    "\n",
    "    # Split the data into training and testing sets\n",
    "    X_train, X_test, y_train, y_test = train_test_split(X, y, train_size=training_size, random_state=123)\n",
    "\n",
    "    # Create the design matrix\n",
    "    X_train = np.c_[np.ones(X_train.shape[0]), X_train ** degree]\n",
    "    X_test = np.c_[np.ones(X_test.shape[0]), X_test ** degree]\n",
    "\n",
    "    # Fit the model\n",
    "    model = LinearRegression()\n",
    "    model.fit(X_train, y_train)\n",
    "\n",
    "    # Predict the target\n",
    "    y_train_hat = model.predict(X_train)\n",
    "    y_test_hat = model.predict(X_test)\n",
    "\n",
    "    # Get the errors and RSE\n",
    "    e_train = y_train - y_train_hat\n",
    "    e_test = y_test - y_test_hat\n",
    "    r training_size"
   ]
  },
  {
   "cell_type": "code",
   "execution_count": null,
   "id": "6f46ca2b",
   "metadata": {},
   "outputs": [],
   "source": [
    "# Get the training and testing RSE for various sample sizes\n",
    "rse_train = []\n",
    "rse_test = []\n",
    "degree = 13\n",
    "for training_size in range(degree + 2, 200 - (degree + 2)):\n",
    "    tmp = overfitting(training_size, degree)\n",
    "    rse_train.append(tmp[0])\n",
    "    rse_test.append(tmp[1])"
   ]
  },
  {
   "cell_type": "code",
   "execution_count": null,
   "id": "03fca782",
   "metadata": {},
   "outputs": [],
   "source": [
    "# Plot the results\n",
    "import matplotlib.pyplot as plt"
   ]
  },
  {
   "cell_type": "code",
   "execution_count": null,
   "id": "8457f31c",
   "metadata": {},
   "outputs": [],
   "source": [
    "plt.plot(rse_test, color='red', label='Testing')\n",
    "plt.plot(rse_train, color='green', label='Training')\n",
    "plt.xlabel('Training sample size')\n",
    "plt.ylabel('RSE')\n",
    "plt.title('RSE for various training sample sizes')\n",
    "plt.legend()\n",
    "plt.show()"
   ]
  }
 ],
 "metadata": {
  "jupytext": {
   "cell_metadata_filter": "-all",
   "main_language": "python",
   "notebook_metadata_filter": "-all"
  }
 },
 "nbformat": 4,
 "nbformat_minor": 5
}
