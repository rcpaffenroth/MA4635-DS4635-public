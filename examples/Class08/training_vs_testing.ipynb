{
  "cells": [
    {
      "cell_type": "code",
      "execution_count": 97,
      "id": "ff587372",
      "metadata": {
        "id": "ff587372"
      },
      "outputs": [],
      "source": [
        "import pandas as pd\n",
        "import numpy as np\n",
        "from sklearn.model_selection import train_test_split\n",
        "from sklearn.linear_model import LinearRegression\n",
        "from sklearn.metrics import mean_squared_error"
      ]
    },
    {
      "cell_type": "code",
      "execution_count": 2,
      "id": "ea5b2f12",
      "metadata": {
        "lines_to_next_cell": 1,
        "id": "ea5b2f12",
        "outputId": "5b052bf3-9253-45ae-ab77-e5fac7a6a2cd",
        "colab": {
          "base_uri": "https://localhost:8080/"
        }
      },
      "outputs": [
        {
          "output_type": "stream",
          "name": "stdout",
          "text": [
            "--2024-03-20 00:40:15--  https://www.statlearning.com/s/Advertising.csv\n",
            "Resolving www.statlearning.com (www.statlearning.com)... 198.185.159.144, 198.49.23.145, 198.185.159.145, ...\n",
            "Connecting to www.statlearning.com (www.statlearning.com)|198.185.159.144|:443... connected.\n",
            "HTTP request sent, awaiting response... 302 Found\n",
            "Location: https://static1.squarespace.com/static/5ff2adbe3fe4fe33db902812/t/5fffe03b4091076ff5b30c72/1610604603901/Advertising.csv [following]\n",
            "--2024-03-20 00:40:15--  https://static1.squarespace.com/static/5ff2adbe3fe4fe33db902812/t/5fffe03b4091076ff5b30c72/1610604603901/Advertising.csv\n",
            "Resolving static1.squarespace.com (static1.squarespace.com)... 151.101.0.238, 151.101.64.238, 151.101.128.238, ...\n",
            "Connecting to static1.squarespace.com (static1.squarespace.com)|151.101.0.238|:443... connected.\n",
            "HTTP request sent, awaiting response... 200 OK\n",
            "Length: 4555 (4.4K) [text/csv]\n",
            "Saving to: ‘Advertising.csv’\n",
            "\n",
            "Advertising.csv     100%[===================>]   4.45K  --.-KB/s    in 0s      \n",
            "\n",
            "2024-03-20 00:40:15 (38.9 MB/s) - ‘Advertising.csv’ saved [4555/4555]\n",
            "\n"
          ]
        }
      ],
      "source": [
        "# Read in a CSV file\n",
        "! wget https://www.statlearning.com/s/Advertising.csv\n",
        "adv = pd.read_csv('Advertising.csv')"
      ]
    },
    {
      "cell_type": "code",
      "source": [
        "# Define the overfitting function\n",
        "def overfitting(training_size, degree):\n",
        "    # Get the features and target\n",
        "\n",
        "    x = adv['TV']\n",
        "    x = (x - np.mean(x)) / np.sqrt(np.var(x))\n",
        "    y = adv['sales']\n",
        "\n",
        "    # The training set\n",
        "    xTraining = x[:training_size]\n",
        "    yTraining = y[:training_size]\n",
        "\n",
        "    # The testing set\n",
        "    xTesting = x[training_size:]\n",
        "    yTesting = y[training_size:]\n",
        "\n",
        "    # This function creates a n-by-2 matrix where every entry is 1.\n",
        "    X = np.ones((training_size, degree + 1))\n",
        "\n",
        "    # We make the second column our predictors, so the first column\n",
        "    # is still filled with 1.\n",
        "    for i in range(1, degree + 1):\n",
        "        X[:, i] = np.power(xTraining, i)\n",
        "\n",
        "    # @ is the matrix multiplication operator in Python\n",
        "    # np.linalg.inv is the equivalent of solve in R\n",
        "    B = np.linalg.inv(X.T @ X) @ X.T @ yTraining\n",
        "\n",
        "    yTrainingHat = B[0]\n",
        "    yTestingHat = B[0]\n",
        "    for i in range(1, degree + 1):\n",
        "        yTrainingHat += B[i] * np.power(xTraining, i)\n",
        "        yTestingHat += B[i] * np.power(xTesting, i)\n",
        "\n",
        "\n",
        "    # Get the errors and RSE\n",
        "    e_train = yTraining - yTrainingHat\n",
        "    e_test = yTesting - yTestingHat\n",
        "\n",
        "      # The residual sum of squares for testing and training\n",
        "    RSSTraining = np.sum(e_train**2)\n",
        "    RSSTesting = np.sum(e_test**2)\n",
        "\n",
        "    # I made a mistake here, when I wrote the script... I actually\n",
        "    # returned RSS instead of RSE.  Why was that a bad thing to do?\n",
        "    RSETraining = np.sqrt(RSSTraining/(len(e_train)-2))\n",
        "    RSETesting = np.sqrt(RSSTesting/(len(e_test)-2))\n",
        "\n",
        "    return([RSETraining,RSETesting])\n"
      ],
      "metadata": {
        "id": "O-uZtAakhA28"
      },
      "id": "O-uZtAakhA28",
      "execution_count": 98,
      "outputs": []
    },
    {
      "cell_type": "code",
      "execution_count": 104,
      "id": "6f46ca2b",
      "metadata": {
        "id": "6f46ca2b"
      },
      "outputs": [],
      "source": [
        "# Get the training and testing RSE for various sample sizes\n",
        "rse_train = []\n",
        "rse_test = []\n",
        "degree = 13\n",
        "for training_size in range(degree + 2, 200 - (degree + 2)):\n",
        "    tmp = overfitting(training_size, degree)\n",
        "    rse_train.append(tmp[0])\n",
        "    rse_test.append(tmp[1])"
      ]
    },
    {
      "cell_type": "code",
      "source": [
        "overfitting(training_size, degree)"
      ],
      "metadata": {
        "id": "OjQgr4zkXLL2",
        "outputId": "79f909f3-e2a4-41aa-ee18-d2b4d197718a",
        "colab": {
          "base_uri": "https://localhost:8080/"
        }
      },
      "id": "OjQgr4zkXLL2",
      "execution_count": 100,
      "outputs": [
        {
          "output_type": "execute_result",
          "data": {
            "text/plain": [
              "[3.1611368308935512, 3.505613992118362]"
            ]
          },
          "metadata": {},
          "execution_count": 100
        }
      ]
    },
    {
      "source": [
        "# Print the columns of the DataFrame 'adv'\n",
        "print(adv.columns)"
      ],
      "cell_type": "code",
      "metadata": {
        "id": "UzMjvp2lVKlk",
        "outputId": "fe12c3bd-30c4-4334-d287-f16fc6c9f35e",
        "colab": {
          "base_uri": "https://localhost:8080/"
        }
      },
      "id": "UzMjvp2lVKlk",
      "execution_count": 101,
      "outputs": [
        {
          "output_type": "stream",
          "name": "stdout",
          "text": [
            "Index(['Unnamed: 0', 'TV', 'radio', 'newspaper', 'sales'], dtype='object')\n"
          ]
        }
      ]
    },
    {
      "cell_type": "code",
      "execution_count": 102,
      "id": "03fca782",
      "metadata": {
        "id": "03fca782"
      },
      "outputs": [],
      "source": [
        "# Plot the results\n",
        "import matplotlib.pyplot as plt"
      ]
    },
    {
      "cell_type": "code",
      "execution_count": 106,
      "id": "8457f31c",
      "metadata": {
        "id": "8457f31c",
        "outputId": "ead58b17-afe2-4ec0-d6e6-31d51c7de327",
        "colab": {
          "base_uri": "https://localhost:8080/",
          "height": 472
        }
      },
      "outputs": [
        {
          "output_type": "display_data",
          "data": {
            "text/plain": [
              "<Figure size 640x480 with 1 Axes>"
            ],
            "image/png": "[encoded data removed]"
          },
          "metadata": {}
        }
      ],
      "source": [
        "plt.plot(rse_test, color='red', label='Testing')\n",
        "plt.plot(rse_train, color='green', label='Training')\n",
        "plt.xlabel('Training sample size')\n",
        "plt.ylim(0, 8)\n",
        "plt.ylabel('RSE')\n",
        "plt.title('RSE for various training sample sizes')\n",
        "plt.legend()\n",
        "plt.show()"
      ]
    },
    {
      "cell_type": "code",
      "source": [],
      "metadata": {
        "id": "MwfCCheMb19p"
      },
      "id": "MwfCCheMb19p",
      "execution_count": null,
      "outputs": []
    }
  ],
  "metadata": {
    "jupytext": {
      "cell_metadata_filter": "-all",
      "main_language": "python",
      "notebook_metadata_filter": "-all"
    },
    "colab": {
      "provenance": []
    },
    "language_info": {
      "name": "python"
    },
    "kernelspec": {
      "name": "python3",
      "display_name": "Python 3"
    }
  },
  "nbformat": 4,
  "nbformat_minor": 5
}